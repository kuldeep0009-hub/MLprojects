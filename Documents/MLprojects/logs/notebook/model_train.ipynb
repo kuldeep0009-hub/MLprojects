{
 "cells": [
  {
   "cell_type": "code",
   "execution_count": 2,
   "id": "6ca599bc",
   "metadata": {},
   "outputs": [],
   "source": [
    "import pandas as pd\n",
    "import numpy as np\n",
    "import seaborn as sns\n",
    "import matplotlib.pyplot as plt\n",
    "%matplotlib inline\n",
    "#modelling\n",
    "from sklearn.linear_model import LinearRegression,Ridge,Lasso\n",
    "from sklearn.tree import DecisionTreeRegressor\n",
    "from sklearn.ensemble import RandomForestRegressor,AdaBoostRegressor\n",
    "from sklearn.metrics import mean_squared_error,r2_score\n",
    "from sklearn.svm import SVR\n",
    "from sklearn.model_selection import RandomizedSearchCV\n",
    "from sklearn.metrics import mean_absolute_error\n",
    "from xgboost import XGBRegressor\n",
    "from catboost import CatBoostRegressor"
   ]
  },
  {
   "cell_type": "markdown",
   "id": "1d88de1b",
   "metadata": {},
   "source": [
    "## import csv  data"
   ]
  },
  {
   "cell_type": "code",
   "execution_count": 4,
   "id": "19e15daf",
   "metadata": {},
   "outputs": [],
   "source": [
    "df=pd.read_csv(\"/Users/kuldeepsharma/Downloads/stud.csv\")"
   ]
  },
  {
   "cell_type": "code",
   "execution_count": 5,
   "id": "d2bc4c69",
   "metadata": {},
   "outputs": [
    {
     "data": {
      "text/html": [
       "<div>\n",
       "<style scoped>\n",
       "    .dataframe tbody tr th:only-of-type {\n",
       "        vertical-align: middle;\n",
       "    }\n",
       "\n",
       "    .dataframe tbody tr th {\n",
       "        vertical-align: top;\n",
       "    }\n",
       "\n",
       "    .dataframe thead th {\n",
       "        text-align: right;\n",
       "    }\n",
       "</style>\n",
       "<table border=\"1\" class=\"dataframe\">\n",
       "  <thead>\n",
       "    <tr style=\"text-align: right;\">\n",
       "      <th></th>\n",
       "      <th>gender</th>\n",
       "      <th>race_ethnicity</th>\n",
       "      <th>parental_level_of_education</th>\n",
       "      <th>lunch</th>\n",
       "      <th>test_preparation_course</th>\n",
       "      <th>math_score</th>\n",
       "      <th>reading_score</th>\n",
       "      <th>writing_score</th>\n",
       "    </tr>\n",
       "  </thead>\n",
       "  <tbody>\n",
       "    <tr>\n",
       "      <th>0</th>\n",
       "      <td>female</td>\n",
       "      <td>group B</td>\n",
       "      <td>bachelor's degree</td>\n",
       "      <td>standard</td>\n",
       "      <td>none</td>\n",
       "      <td>72</td>\n",
       "      <td>72</td>\n",
       "      <td>74</td>\n",
       "    </tr>\n",
       "    <tr>\n",
       "      <th>1</th>\n",
       "      <td>female</td>\n",
       "      <td>group C</td>\n",
       "      <td>some college</td>\n",
       "      <td>standard</td>\n",
       "      <td>completed</td>\n",
       "      <td>69</td>\n",
       "      <td>90</td>\n",
       "      <td>88</td>\n",
       "    </tr>\n",
       "    <tr>\n",
       "      <th>2</th>\n",
       "      <td>female</td>\n",
       "      <td>group B</td>\n",
       "      <td>master's degree</td>\n",
       "      <td>standard</td>\n",
       "      <td>none</td>\n",
       "      <td>90</td>\n",
       "      <td>95</td>\n",
       "      <td>93</td>\n",
       "    </tr>\n",
       "    <tr>\n",
       "      <th>3</th>\n",
       "      <td>male</td>\n",
       "      <td>group A</td>\n",
       "      <td>associate's degree</td>\n",
       "      <td>free/reduced</td>\n",
       "      <td>none</td>\n",
       "      <td>47</td>\n",
       "      <td>57</td>\n",
       "      <td>44</td>\n",
       "    </tr>\n",
       "    <tr>\n",
       "      <th>4</th>\n",
       "      <td>male</td>\n",
       "      <td>group C</td>\n",
       "      <td>some college</td>\n",
       "      <td>standard</td>\n",
       "      <td>none</td>\n",
       "      <td>76</td>\n",
       "      <td>78</td>\n",
       "      <td>75</td>\n",
       "    </tr>\n",
       "  </tbody>\n",
       "</table>\n",
       "</div>"
      ],
      "text/plain": [
       "   gender race_ethnicity parental_level_of_education         lunch  \\\n",
       "0  female        group B           bachelor's degree      standard   \n",
       "1  female        group C                some college      standard   \n",
       "2  female        group B             master's degree      standard   \n",
       "3    male        group A          associate's degree  free/reduced   \n",
       "4    male        group C                some college      standard   \n",
       "\n",
       "  test_preparation_course  math_score  reading_score  writing_score  \n",
       "0                    none          72             72             74  \n",
       "1               completed          69             90             88  \n",
       "2                    none          90             95             93  \n",
       "3                    none          47             57             44  \n",
       "4                    none          76             78             75  "
      ]
     },
     "execution_count": 5,
     "metadata": {},
     "output_type": "execute_result"
    }
   ],
   "source": [
    "df.head()"
   ]
  },
  {
   "cell_type": "code",
   "execution_count": 6,
   "id": "322c955b",
   "metadata": {},
   "outputs": [],
   "source": [
    "x=df.drop(columns=[\"math_score\"],axis=1)"
   ]
  },
  {
   "cell_type": "code",
   "execution_count": 7,
   "id": "7ee09eeb",
   "metadata": {},
   "outputs": [],
   "source": [
    "y=df['math_score']"
   ]
  },
  {
   "cell_type": "code",
   "execution_count": 10,
   "id": "07c7db99",
   "metadata": {},
   "outputs": [],
   "source": [
    "#create column transformer with 3 types of transformer\n",
    "cat_features=x.select_dtypes(include=\"object\").columns\n",
    "num_features=x.select_dtypes(exclude=\"object\").columns\n",
    "\n",
    "from sklearn.preprocessing import OneHotEncoder,StandardScaler\n",
    "from sklearn.compose import ColumnTransformer\n",
    "\n",
    "num_transformer=StandardScaler()\n",
    "oh_transformer=OneHotEncoder()\n",
    "\n",
    "preprocessor=ColumnTransformer(\n",
    "    [\n",
    "        (\"onehotencoder\",oh_transformer,cat_features),\n",
    "        ('tandardscaler',num_transformer,num_features)\n",
    "    ]\n",
    ")"
   ]
  },
  {
   "cell_type": "code",
   "execution_count": 13,
   "id": "ebc37855",
   "metadata": {},
   "outputs": [],
   "source": [
    "x=preprocessor.fit_transform(x)"
   ]
  },
  {
   "cell_type": "code",
   "execution_count": 14,
   "id": "fdf6ce68",
   "metadata": {},
   "outputs": [
    {
     "data": {
      "text/plain": [
       "array([[ 1.        ,  0.        ,  0.        , ...,  1.        ,\n",
       "         0.19399858,  0.39149181],\n",
       "       [ 1.        ,  0.        ,  0.        , ...,  0.        ,\n",
       "         1.42747598,  1.31326868],\n",
       "       [ 1.        ,  0.        ,  0.        , ...,  1.        ,\n",
       "         1.77010859,  1.64247471],\n",
       "       ...,\n",
       "       [ 1.        ,  0.        ,  0.        , ...,  0.        ,\n",
       "         0.12547206, -0.20107904],\n",
       "       [ 1.        ,  0.        ,  0.        , ...,  0.        ,\n",
       "         0.60515772,  0.58901542],\n",
       "       [ 1.        ,  0.        ,  0.        , ...,  1.        ,\n",
       "         1.15336989,  1.18158627]])"
      ]
     },
     "execution_count": 14,
     "metadata": {},
     "output_type": "execute_result"
    }
   ],
   "source": [
    "x"
   ]
  },
  {
   "cell_type": "code",
   "execution_count": 15,
   "id": "e03b14f7",
   "metadata": {},
   "outputs": [
    {
     "data": {
      "text/plain": [
       "((800, 19), (200, 19))"
      ]
     },
     "execution_count": 15,
     "metadata": {},
     "output_type": "execute_result"
    }
   ],
   "source": [
    "##separate dataset into train test split \n",
    "from sklearn.model_selection import train_test_split\n",
    "x_train,x_test,y_train,y_test=train_test_split(x,y,test_size=0.2,random_state=42)\n",
    "x_train.shape,x_test.shape"
   ]
  },
  {
   "cell_type": "markdown",
   "id": "d8e6436b",
   "metadata": {},
   "source": [
    "# evaluate function to give all metrics after model training"
   ]
  },
  {
   "cell_type": "code",
   "execution_count": 18,
   "id": "ed8e2596",
   "metadata": {},
   "outputs": [],
   "source": [
    "\n",
    "def evaluate_model(true,prediction):\n",
    "    mae=mean_absolute_error(true,prediction)\n",
    "    mse=mean_squared_error(true,prediction)\n",
    "    rmse=np.sqrt(mean_squared_error(true,prediction))\n",
    "    r2_square=r2_score(true,prediction)\n",
    "    return r2_square,mae,rmse"
   ]
  },
  {
   "cell_type": "code",
   "execution_count": 21,
   "id": "4552bfd8",
   "metadata": {},
   "outputs": [
    {
     "name": "stdout",
     "output_type": "stream",
     "text": [
      "linear regression\n",
      "model performace for training set\n",
      "- root mean squared error:4.2667\n",
      "-  mean absolute error:0.8743\n",
      "- r2 score:5.3231\n",
      "------------------------------\n",
      "model performace for test set\n",
      "- root mean squared error:0.8804\n",
      "-  mean absolute error:4.2148\n",
      "- r2 score:5.3231\n",
      "===================================\n",
      "\n",
      "\n",
      "ridge\n",
      "model performace for training set\n",
      "- root mean squared error:4.2650\n",
      "-  mean absolute error:0.8743\n",
      "- r2 score:5.3233\n",
      "------------------------------\n",
      "model performace for test set\n",
      "- root mean squared error:0.8806\n",
      "-  mean absolute error:4.2111\n",
      "- r2 score:5.3233\n",
      "===================================\n",
      "\n",
      "\n",
      "lasso\n",
      "model performace for training set\n",
      "- root mean squared error:5.2063\n",
      "-  mean absolute error:0.8071\n",
      "- r2 score:6.5938\n",
      "------------------------------\n",
      "model performace for test set\n",
      "- root mean squared error:0.8253\n",
      "-  mean absolute error:5.1579\n",
      "- r2 score:6.5938\n",
      "===================================\n",
      "\n",
      "\n",
      "decision tree\n",
      "model performace for training set\n",
      "- root mean squared error:0.0187\n",
      "-  mean absolute error:0.9997\n",
      "- r2 score:0.2795\n",
      "------------------------------\n",
      "model performace for test set\n",
      "- root mean squared error:0.7487\n",
      "-  mean absolute error:6.2400\n",
      "- r2 score:0.2795\n",
      "===================================\n",
      "\n",
      "\n",
      "Random forest\n",
      "model performace for training set\n",
      "- root mean squared error:1.8226\n",
      "-  mean absolute error:0.9767\n",
      "- r2 score:2.2918\n",
      "------------------------------\n",
      "model performace for test set\n",
      "- root mean squared error:0.8520\n",
      "-  mean absolute error:4.6377\n",
      "- r2 score:2.2918\n",
      "===================================\n",
      "\n",
      "\n",
      "XGBRegressor\n",
      "model performace for training set\n",
      "- root mean squared error:0.6875\n",
      "-  mean absolute error:0.9955\n",
      "- r2 score:1.0073\n",
      "------------------------------\n",
      "model performace for test set\n",
      "- root mean squared error:0.8278\n",
      "-  mean absolute error:5.0577\n",
      "- r2 score:1.0073\n",
      "===================================\n",
      "\n",
      "\n",
      "cat boosting regressor\n",
      "model performace for training set\n",
      "- root mean squared error:2.4054\n",
      "-  mean absolute error:0.9589\n",
      "- r2 score:3.0427\n",
      "------------------------------\n",
      "model performace for test set\n",
      "- root mean squared error:0.8516\n",
      "-  mean absolute error:4.6125\n",
      "- r2 score:3.0427\n",
      "===================================\n",
      "\n",
      "\n",
      "AdaBoostRegressor\n",
      "model performace for training set\n",
      "- root mean squared error:4.8449\n",
      "-  mean absolute error:0.8432\n",
      "- r2 score:5.9461\n",
      "------------------------------\n",
      "model performace for test set\n",
      "- root mean squared error:0.8468\n",
      "-  mean absolute error:4.8030\n",
      "- r2 score:5.9461\n",
      "===================================\n",
      "\n",
      "\n"
     ]
    }
   ],
   "source": [
    "models={\n",
    "    'linear regression':LinearRegression(),\n",
    "    'ridge':Ridge(),\n",
    "    'lasso':Lasso(),\n",
    "    'decision tree':DecisionTreeRegressor(),\n",
    "    'Random forest':RandomForestRegressor(),\n",
    "    'XGBRegressor':XGBRegressor(),\n",
    "    'cat boosting regressor':CatBoostRegressor(verbose=False),\n",
    "    'AdaBoostRegressor':AdaBoostRegressor()\n",
    "}\n",
    "model_list=[]\n",
    "r2_list=[]\n",
    "\n",
    "for i in range(len(list(models))):\n",
    "    model=list(models.values())[i]\n",
    "    model.fit(x_train,y_train)#train model\n",
    "\n",
    "    #make prediction\n",
    "    y_train_pred=model.predict(x_train)\n",
    "    y_test_pred=model.predict(x_test)\n",
    "\n",
    "    #evaluate train and test dataset\n",
    "    model_train_mae,model_train_rmse,model_train_r2=evaluate_model(y_train,y_train_pred)\n",
    "    model_test_rmse,model_test_mae,model_test_r2=evaluate_model(y_test,y_test_pred)\n",
    "\n",
    "    print(list(models.keys())[i])\n",
    "    model_list.append(list(models.keys())[i])\n",
    "\n",
    "    print(\"model performace for training set\")\n",
    "    print(\"- root mean squared error:{:.4f}\".format(model_train_rmse))\n",
    "    print(\"-  mean absolute error:{:.4f}\".format(model_train_mae))\n",
    "    print(\"- r2 score:{:.4f}\".format(model_train_r2))\n",
    "    print(\"------------------------------\")\n",
    "    print(\"model performace for test set\".format(model_test_rmse))\n",
    "    print(\"- root mean squared error:{:.4f}\".format(model_test_rmse))\n",
    "    print(\"-  mean absolute error:{:.4f}\".format(model_test_mae))\n",
    "    print(\"- r2 score:{:.4f}\".format(model_train_r2))   \n",
    "    r2_list.append(model_test_r2)\n",
    "    print('='*35)\n",
    "    print('\\n')"
   ]
  },
  {
   "cell_type": "code",
   "execution_count": null,
   "id": "ba82bf0a",
   "metadata": {},
   "outputs": [],
   "source": []
  }
 ],
 "metadata": {
  "kernelspec": {
   "display_name": "ml64",
   "language": "python",
   "name": "python3"
  },
  "language_info": {
   "codemirror_mode": {
    "name": "ipython",
    "version": 3
   },
   "file_extension": ".py",
   "mimetype": "text/x-python",
   "name": "python",
   "nbconvert_exporter": "python",
   "pygments_lexer": "ipython3",
   "version": "3.10.18"
  }
 },
 "nbformat": 4,
 "nbformat_minor": 5
}
